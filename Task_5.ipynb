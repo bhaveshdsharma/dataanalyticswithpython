{
 "cells": [
  {
   "cell_type": "markdown",
   "metadata": {},
   "source": [
    "# Task-5 "
   ]
  },
  {
   "cell_type": "code",
   "execution_count": 1,
   "metadata": {},
   "outputs": [],
   "source": [
    "\n",
    "\n"
   ]
  },
  {
   "cell_type": "code",
   "execution_count": 2,
   "metadata": {},
   "outputs": [
    {
     "data": {
      "text/plain": [
       "'From the above dictionary, do the following tasks\\n\\naccess \"Mike\"\\naccess 80\\nchange \"Mike\" to \"Your name\"\\nadd ML = 80 and DL = 80 inside marks\\n'"
      ]
     },
     "execution_count": 2,
     "metadata": {},
     "output_type": "execute_result"
    }
   ],
   "source": [
    "'''From the above dictionary, do the following tasks\n",
    "\n",
    "access \"Mike\"\n",
    "access 80\n",
    "change \"Mike\" to \"Your name\"\n",
    "add ML = 80 and DL = 80 inside marks\n",
    "'''"
   ]
  },
  {
   "cell_type": "code",
   "execution_count": 60,
   "metadata": {},
   "outputs": [],
   "source": [
    "#access \"Mike\"\n",
    "dict1 = { \n",
    "   \"april_batch\":{ \n",
    "      \"student\":{ \n",
    "         \"name\":\"Mike\",\n",
    "         \"marks\":{ \n",
    "            \"python\":80,\n",
    "            \"maths\":70\n",
    "         }\n",
    "      }\n",
    "   }\n",
    "}\n"
   ]
  },
  {
   "cell_type": "code",
   "execution_count": 61,
   "metadata": {},
   "outputs": [
    {
     "name": "stdout",
     "output_type": "stream",
     "text": [
      "{'april_batch': {'student': {'name': 'Mike', 'marks': {'python': 80, 'maths': 70}}}}\n"
     ]
    }
   ],
   "source": [
    "print(dict1)"
   ]
  },
  {
   "cell_type": "code",
   "execution_count": 62,
   "metadata": {},
   "outputs": [
    {
     "data": {
      "text/plain": [
       "'Mike'"
      ]
     },
     "execution_count": 62,
     "metadata": {},
     "output_type": "execute_result"
    }
   ],
   "source": [
    "#access \"mike\"\n",
    "dict1['april_batch']['student']['name']"
   ]
  },
  {
   "cell_type": "code",
   "execution_count": 63,
   "metadata": {},
   "outputs": [
    {
     "data": {
      "text/plain": [
       "'Mike'"
      ]
     },
     "execution_count": 63,
     "metadata": {},
     "output_type": "execute_result"
    }
   ],
   "source": [
    "#access \"mike\"\n",
    "dict1['april_batch']['student']['name']"
   ]
  },
  {
   "cell_type": "code",
   "execution_count": 64,
   "metadata": {},
   "outputs": [
    {
     "data": {
      "text/plain": [
       "80"
      ]
     },
     "execution_count": 64,
     "metadata": {},
     "output_type": "execute_result"
    }
   ],
   "source": [
    "#access 80\n",
    "dict1['april_batch']['student']['marks']['python']"
   ]
  },
  {
   "cell_type": "code",
   "execution_count": 65,
   "metadata": {},
   "outputs": [
    {
     "name": "stdout",
     "output_type": "stream",
     "text": [
      "{'april_batch': {'student': {'name': 'bhavesh', 'marks': {'python': 80, 'maths': 70}}}}\n"
     ]
    }
   ],
   "source": [
    "#change \"mike\" to \"bhavesh\"\n",
    "dict1['april_batch']['student']['name']=\"bhavesh\"\n",
    "print(dict1)"
   ]
  },
  {
   "cell_type": "code",
   "execution_count": 67,
   "metadata": {},
   "outputs": [
    {
     "name": "stdout",
     "output_type": "stream",
     "text": [
      "{'april_batch': {'student': {'name': 'bhavesh', 'marks': {'python': 80, 'maths': 70, 'ML': 80}}}}\n"
     ]
    }
   ],
   "source": [
    "#add ML = 80 and DL = 80 inside marks\n",
    "dict1['april_batch']['student']['marks']['ML']=80\n",
    "print(dict1)"
   ]
  },
  {
   "cell_type": "code",
   "execution_count": 69,
   "metadata": {},
   "outputs": [
    {
     "name": "stdout",
     "output_type": "stream",
     "text": [
      "{'april_batch': {'student': {'name': 'bhavesh', 'marks': {'python': 80, 'maths': 70, 'ML': 80, 'DL': 80}}}}\n"
     ]
    }
   ],
   "source": [
    "dict1['april_batch']['student']['marks']['DL']=80\n",
    "print(dict1)"
   ]
  },
  {
   "cell_type": "code",
   "execution_count": null,
   "metadata": {},
   "outputs": [],
   "source": [
    "# how can we add 'ML'and'DL' both at same time?"
   ]
  }
 ],
 "metadata": {
  "kernelspec": {
   "display_name": "Python 3",
   "language": "python",
   "name": "python3"
  },
  "language_info": {
   "codemirror_mode": {
    "name": "ipython",
    "version": 3
   },
   "file_extension": ".py",
   "mimetype": "text/x-python",
   "name": "python",
   "nbconvert_exporter": "python",
   "pygments_lexer": "ipython3",
   "version": "3.7.6"
  }
 },
 "nbformat": 4,
 "nbformat_minor": 4
}
