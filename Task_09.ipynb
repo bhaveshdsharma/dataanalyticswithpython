{
 "cells": [
  {
   "cell_type": "markdown",
   "metadata": {},
   "source": [
    "# Task-9"
   ]
  },
  {
   "cell_type": "code",
   "execution_count": 1,
   "metadata": {},
   "outputs": [
    {
     "name": "stdout",
     "output_type": "stream",
     "text": [
      "1.Add\n",
      "2.Sub\n",
      "3.Multiply\n",
      "4.Divide\n",
      "\n",
      "Select operations form 1, 2, 3, 4 :3\n",
      "enter first number2\n",
      "enter second number8\n",
      "Multiply: 16\n"
     ]
    }
   ],
   "source": [
    "print(\"1.Add\\n\" \"2.Sub\\n\" \"3.Multiply\\n\" \"4.Divide\\n\")\n",
    "operation =int(input(\"Select operations form 1, 2, 3, 4 :\")) \n",
    "\n",
    "# if we dont use int() we cannot run the code, why? because input() return are always string?\n",
    "\n",
    "\n",
    "# if operation != (1,2,3,4): (how to check if the value entered belongs to 1,2,3,4)\n",
    "    #print(\"invalid entry\")\n",
    "# how to stop here if the entry is invalid\n",
    "    \n",
    "x= int(input(\"enter first number\"))\n",
    "y= int(input(\"enter second number\"))\n",
    "\n",
    "if operation == 1:\n",
    "    print(\"Add:\",x+y)\n",
    "    \n",
    "elif operation == 2:\n",
    "    print(\"Sub:\",x-y)\n",
    "    \n",
    "elif operation == 3:\n",
    "    print(\"Multiply:\",x*y)\n",
    "    \n",
    "elif operation == 4:\n",
    "    print(\"Divide:\",x/y)   \n",
    "\n",
    "else:\n",
    "    print(\"invalid entry\")"
   ]
  },
  {
   "cell_type": "code",
   "execution_count": null,
   "metadata": {},
   "outputs": [],
   "source": []
  }
 ],
 "metadata": {
  "kernelspec": {
   "display_name": "Python 3",
   "language": "python",
   "name": "python3"
  },
  "language_info": {
   "codemirror_mode": {
    "name": "ipython",
    "version": 3
   },
   "file_extension": ".py",
   "mimetype": "text/x-python",
   "name": "python",
   "nbconvert_exporter": "python",
   "pygments_lexer": "ipython3",
   "version": "3.7.6"
  }
 },
 "nbformat": 4,
 "nbformat_minor": 4
}
