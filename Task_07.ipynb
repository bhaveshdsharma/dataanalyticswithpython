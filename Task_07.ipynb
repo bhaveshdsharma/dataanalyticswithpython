{
 "cells": [
  {
   "cell_type": "markdown",
   "metadata": {},
   "source": [
    "# Task_07 \n",
    "## 1) difference()"
   ]
  },
  {
   "cell_type": "code",
   "execution_count": 24,
   "metadata": {},
   "outputs": [
    {
     "name": "stdout",
     "output_type": "stream",
     "text": [
      "(a-b): {'green', 'blue'}\n",
      "(b-a): {'orange', 'yellow'}\n"
     ]
    }
   ],
   "source": [
    "# 1. difference( also known as (A U B)), all the elements that are present in A and not in B\n",
    "# A - B is equal to the elements present in A but not in B\n",
    "\n",
    "a = {'red', 'green', 'blue'}\n",
    "b = {'yellow', 'red', 'orange'}\n",
    "\n",
    "x= a-b\n",
    "print(\"(a-b):\",x)\n",
    "\n",
    "# B - A is equal to the elements present in B but not in A\n",
    "\n",
    "x1= b-a\n",
    "print(\"(b-a):\",x1)\n",
    "\n",
    "# A-B is not equal to B-A"
   ]
  },
  {
   "cell_type": "code",
   "execution_count": 10,
   "metadata": {},
   "outputs": [
    {
     "name": "stdout",
     "output_type": "stream",
     "text": [
      "(a-b): {'green', 'blue'}\n",
      "(b-a): {'orange', 'yellow'}\n"
     ]
    }
   ],
   "source": [
    "a = {'red', 'green', 'blue'}\n",
    "b = {'yellow', 'red', 'orange'}\n",
    "\n",
    "print(\"(a-b):\",a.difference(b))\n",
    "print(\"(b-a):\",b.difference(a))"
   ]
  },
  {
   "cell_type": "code",
   "execution_count": 11,
   "metadata": {},
   "outputs": [
    {
     "name": "stdout",
     "output_type": "stream",
     "text": [
      "set()\n"
     ]
    }
   ],
   "source": [
    "a = {'red', 'green', 'blue'}\n",
    "b = {'yellow', 'red', 'orange'}\n",
    "c = {'green','blue','white'}\n",
    "\n",
    "print((a-b)-c)"
   ]
  },
  {
   "cell_type": "code",
   "execution_count": 21,
   "metadata": {},
   "outputs": [
    {
     "name": "stdout",
     "output_type": "stream",
     "text": [
      "{'blue'}\n",
      "{'blue'}\n"
     ]
    }
   ],
   "source": [
    "a = {'red', 'green', 'blue'}\n",
    "b = {'yellow', 'red', 'orange'}\n",
    "c = {'green','white'}\n",
    "\n",
    "print((a-b)-c)\n",
    "\n",
    "a = {'red', 'green', 'blue'}\n",
    "b = {'yellow', 'red', 'orange'}\n",
    "c = {'green','white'}\n",
    "\n",
    "print((a.difference(b).difference(c)))"
   ]
  },
  {
   "cell_type": "code",
   "execution_count": 23,
   "metadata": {},
   "outputs": [
    {
     "name": "stdout",
     "output_type": "stream",
     "text": [
      "{'white'}\n",
      "{'white'}\n"
     ]
    }
   ],
   "source": [
    "a = {'red', 'green', 'blue'}\n",
    "b = {'yellow', 'red', 'orange'}\n",
    "c = {'green','white'}\n",
    "\n",
    "print(c.difference(a.difference(b)))\n",
    "\n",
    "print(c-(a-b))\n",
    "\n"
   ]
  },
  {
   "cell_type": "markdown",
   "metadata": {},
   "source": [
    " ## 2) symmetric_difference()"
   ]
  },
  {
   "cell_type": "code",
   "execution_count": 29,
   "metadata": {},
   "outputs": [
    {
     "name": "stdout",
     "output_type": "stream",
     "text": [
      "{1, 3, 5, 6}\n",
      "{1, 2, 3, 4, 5, 7}\n"
     ]
    }
   ],
   "source": [
    "a = {1,2,3,4}\n",
    "b = {2,4,5,6}\n",
    "c = {2,4,6,7}\n",
    "print(a^b)\n",
    "\n",
    "# include all the element of  A and B which are not present in A&B/ A intersection B\n",
    "\n",
    "print((a^b)^c)"
   ]
  },
  {
   "cell_type": "code",
   "execution_count": 28,
   "metadata": {},
   "outputs": [
    {
     "name": "stdout",
     "output_type": "stream",
     "text": [
      "{1, 2, 3, 4, 5, 7}\n"
     ]
    }
   ],
   "source": [
    "a = {1,2,3,4}\n",
    "b = {2,4,5,6}\n",
    "c = {2,4,6,7}\n",
    "\n",
    "print(a.symmetric_difference(b).symmetric_difference(c))"
   ]
  },
  {
   "cell_type": "code",
   "execution_count": null,
   "metadata": {},
   "outputs": [],
   "source": []
  }
 ],
 "metadata": {
  "kernelspec": {
   "display_name": "Python 3",
   "language": "python",
   "name": "python3"
  },
  "language_info": {
   "codemirror_mode": {
    "name": "ipython",
    "version": 3
   },
   "file_extension": ".py",
   "mimetype": "text/x-python",
   "name": "python",
   "nbconvert_exporter": "python",
   "pygments_lexer": "ipython3",
   "version": "3.7.6"
  }
 },
 "nbformat": 4,
 "nbformat_minor": 4
}
