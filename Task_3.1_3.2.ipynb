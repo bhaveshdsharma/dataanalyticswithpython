{
 "cells": [
  {
   "cell_type": "markdown",
   "metadata": {},
   "source": [
    "# Task-3"
   ]
  },
  {
   "cell_type": "code",
   "execution_count": null,
   "metadata": {},
   "outputs": [],
   "source": [
    "#TypeError: remove() takes exactly one argument (2 given)\n",
    "#Task 3.2\n",
    "#In [ ]:\n",
    "# create a list of lenght = 10 and access 5th to 8th data.\n"
   ]
  },
  {
   "cell_type": "code",
   "execution_count": 14,
   "metadata": {},
   "outputs": [],
   "source": [
    "#Task-3.1 : go through other inbuilt methods like remove(),count(),clear(),sort(),reverse()\n",
    "\n",
    "mylist=[1,2,3,\"bhavesh\",\"jay\",\"lakulish\",1.2,2.3,3.4,4.5,True,False]"
   ]
  },
  {
   "cell_type": "code",
   "execution_count": 15,
   "metadata": {},
   "outputs": [],
   "source": [
    "mylist.remove(\"bhavesh\")\n"
   ]
  },
  {
   "cell_type": "code",
   "execution_count": 16,
   "metadata": {},
   "outputs": [
    {
     "name": "stdout",
     "output_type": "stream",
     "text": [
      "[1, 2, 3, 'jay', 'lakulish', 1.2, 2.3, 3.4, 4.5, True, False]\n"
     ]
    }
   ],
   "source": [
    "print(mylist)"
   ]
  },
  {
   "cell_type": "code",
   "execution_count": 19,
   "metadata": {},
   "outputs": [
    {
     "data": {
      "text/plain": [
       "2"
      ]
     },
     "execution_count": 19,
     "metadata": {},
     "output_type": "execute_result"
    }
   ],
   "source": [
    "#Count\n",
    "\n",
    "mylist1=[1,2,3,1,6,7,4,9,7,3,4,8,9]\n",
    "mylist1.count(4)"
   ]
  },
  {
   "cell_type": "code",
   "execution_count": 20,
   "metadata": {},
   "outputs": [
    {
     "data": {
      "text/plain": [
       "2"
      ]
     },
     "execution_count": 20,
     "metadata": {},
     "output_type": "execute_result"
    }
   ],
   "source": [
    "mylist1=[1,2,3,1,6,7,4,9,7,3,4,8,9]\n",
    "mylist1.count(9)"
   ]
  },
  {
   "cell_type": "code",
   "execution_count": 21,
   "metadata": {},
   "outputs": [
    {
     "data": {
      "text/plain": [
       "1"
      ]
     },
     "execution_count": 21,
     "metadata": {},
     "output_type": "execute_result"
    }
   ],
   "source": [
    "mylist1=[1,2,3,1,6,7,4,9,7,3,4,8,9]\n",
    "mylist1.count(2)"
   ]
  },
  {
   "cell_type": "code",
   "execution_count": 25,
   "metadata": {},
   "outputs": [
    {
     "name": "stdout",
     "output_type": "stream",
     "text": [
      "[1, 1, 2, 3, 3, 4, 4, 6, 7, 7, 8, 9, 9]\n"
     ]
    }
   ],
   "source": [
    "# sort\n",
    "# sorting are case sensetive it will sort the uppercase prior to lower case.\n",
    "mylist1.sort()\n",
    "print(mylist1)"
   ]
  },
  {
   "cell_type": "code",
   "execution_count": 50,
   "metadata": {},
   "outputs": [
    {
     "name": "stdout",
     "output_type": "stream",
     "text": [
      "['bhavesh', 'jay', 'lakulish']\n",
      "['lakulish', 'jay', 'bhavesh']\n"
     ]
    }
   ],
   "source": [
    "mylist=[\"bhavesh\",\"jay\",\"lakulish\"]\n",
    "mylist.sort()\n",
    "print(mylist)\n",
    "mylist.sort(reverse=True)\n",
    "print(mylist)"
   ]
  },
  {
   "cell_type": "code",
   "execution_count": 30,
   "metadata": {},
   "outputs": [
    {
     "name": "stdout",
     "output_type": "stream",
     "text": [
      "[9, 9, 8, 7, 7, 6, 4, 4, 3, 3, 2, 1, 1]\n"
     ]
    }
   ],
   "source": [
    "mylist1.sort(reverse = True)\n",
    "print(mylist1)"
   ]
  },
  {
   "cell_type": "code",
   "execution_count": 32,
   "metadata": {},
   "outputs": [
    {
     "name": "stdout",
     "output_type": "stream",
     "text": [
      "[]\n"
     ]
    }
   ],
   "source": [
    "#clear()\n",
    "#clears all the elements in the list\n",
    "\n",
    "mylist1.clear()\n",
    "print(mylist1)"
   ]
  },
  {
   "cell_type": "code",
   "execution_count": 41,
   "metadata": {},
   "outputs": [
    {
     "name": "stdout",
     "output_type": "stream",
     "text": [
      "Original list: [1, 2, 3, 4, 5, 6, 7, 8, 9]\n",
      "Reversed list: [9, 8, 7, 6, 5, 4, 3, 2, 1]\n"
     ]
    }
   ],
   "source": [
    "#Reverse\n",
    "mylist1=[1,2,3,4,5,6,7,8,9]\n",
    "\n",
    "print(\"Original list:\",mylist1)\n",
    "\n",
    "mylist1.reverse()\n",
    "print(\"Reversed list:\",mylist1)"
   ]
  },
  {
   "cell_type": "code",
   "execution_count": 42,
   "metadata": {},
   "outputs": [
    {
     "name": "stdout",
     "output_type": "stream",
     "text": [
      "Original list: [1, 2, 3, 'bhavesh', 'jay', 'lakulish', 1.2, 2.3, 3.4, 4.5, True, False]\n",
      "Reversed list: [False, True, 4.5, 3.4, 2.3, 1.2, 'lakulish', 'jay', 'bhavesh', 3, 2, 1]\n"
     ]
    }
   ],
   "source": [
    "mylist=[1,2,3,\"bhavesh\",\"jay\",\"lakulish\",1.2,2.3,3.4,4.5,True,False]\n",
    "print(\"Original list:\",mylist)\n",
    "\n",
    "mylist.reverse()\n",
    "print(\"Reversed list:\",mylist)"
   ]
  },
  {
   "cell_type": "code",
   "execution_count": 51,
   "metadata": {},
   "outputs": [],
   "source": [
    "#Task 3.2- # create a list of lenght = 10 and access 5th to 8th data."
   ]
  },
  {
   "cell_type": "code",
   "execution_count": 55,
   "metadata": {},
   "outputs": [
    {
     "name": "stdout",
     "output_type": "stream",
     "text": [
      "['lakulish', 1.2, 2.3, 3.4]\n"
     ]
    }
   ],
   "source": [
    "mylist2=[1,2,3,\"bhavesh\",\"jay\",\"lakulish\",1.2,2.3,3.4,4.5,True,False]\n",
    "print(mylist2[4:9])"
   ]
  },
  {
   "cell_type": "code",
   "execution_count": 58,
   "metadata": {},
   "outputs": [
    {
     "name": "stdout",
     "output_type": "stream",
     "text": [
      "[2.3, 1.2, 'lakulish', 'jay', 'bhavesh']\n"
     ]
    }
   ],
   "source": [
    "mylist2.reverse()\n",
    "print(mylist2[4:9])"
   ]
  },
  {
   "cell_type": "code",
   "execution_count": null,
   "metadata": {},
   "outputs": [],
   "source": []
  }
 ],
 "metadata": {
  "kernelspec": {
   "display_name": "Python 3",
   "language": "python",
   "name": "python3"
  },
  "language_info": {
   "codemirror_mode": {
    "name": "ipython",
    "version": 3
   },
   "file_extension": ".py",
   "mimetype": "text/x-python",
   "name": "python",
   "nbconvert_exporter": "python",
   "pygments_lexer": "ipython3",
   "version": "3.7.6"
  }
 },
 "nbformat": 4,
 "nbformat_minor": 4
}
