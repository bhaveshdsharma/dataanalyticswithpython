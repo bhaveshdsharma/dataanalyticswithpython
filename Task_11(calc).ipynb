{
 "cells": [
  {
   "cell_type": "code",
   "execution_count": 1,
   "metadata": {
    "id": "AdDJhinEMFc0"
   },
   "outputs": [
    {
     "name": "stdout",
     "output_type": "stream",
     "text": [
      "1. sum\n",
      "2. diff\n",
      "3. multiply\n",
      "4. divide\n",
      "\n",
      "select operation no you need to perform:1\n",
      "num1 5\n",
      "num2 6\n",
      "5 + 6 = 11\n",
      "Continue?y/n:n\n"
     ]
    }
   ],
   "source": [
    "def sum (num1,num2):\n",
    "  return(num1+num2)\n",
    "\n",
    "def diff (num1,num2):\n",
    "  return(num1-num2)\n",
    "\n",
    "def multiply (num1,num2):\n",
    "  return(num1*num2)\n",
    "\n",
    "def divide(num1,num2):\n",
    "  return(num1/num2)\n",
    "\n",
    "\n",
    "cont = \"y\"\n",
    "while cont.lower() == \"y\":\n",
    "    \n",
    "    \n",
    "    print( \"1. sum\\n\" \"2. diff\\n\" \"3. multiply\\n\" \"4. divide\\n\")\n",
    "    select = int(input(\"select operation no you need to perform:\"))\n",
    "    num1=int(input(\"num1 \"))\n",
    "    num2=int(input(\"num2 \"))\n",
    "    \n",
    "    if select == 1:\n",
    "        print(num1, \"+\", num2, \"=\", \n",
    "                    sum(num1, num2))\n",
    "    elif select ==2:\n",
    "        print(num1,\"-\",num2,\"=\",sub(num1,num2))\n",
    "        \n",
    "    elif select ==3:\n",
    "        print(num1,\"*\",num2,multiply(num1,num2))\n",
    "        \n",
    "    elif select ==4:\n",
    "        print(num1,\"/\",num2,divide(num1,num2))\n",
    "    else:\n",
    "        print(\"invalid input\")\n",
    "    cont = input(\"Continue?y/n:\")\n",
    "        \n",
    "    if cont.lower() ==\"n\":\n",
    "        break\n",
    "          "
   ]
  },
  {
   "cell_type": "code",
   "execution_count": null,
   "metadata": {},
   "outputs": [],
   "source": []
  }
 ],
 "metadata": {
  "colab": {
   "name": "Task_11.ipynb",
   "provenance": []
  },
  "kernelspec": {
   "display_name": "Python 3",
   "language": "python",
   "name": "python3"
  },
  "language_info": {
   "codemirror_mode": {
    "name": "ipython",
    "version": 3
   },
   "file_extension": ".py",
   "mimetype": "text/x-python",
   "name": "python",
   "nbconvert_exporter": "python",
   "pygments_lexer": "ipython3",
   "version": "3.7.6"
  }
 },
 "nbformat": 4,
 "nbformat_minor": 1
}
