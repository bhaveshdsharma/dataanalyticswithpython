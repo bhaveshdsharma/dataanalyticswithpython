{
  "nbformat": 4,
  "nbformat_minor": 0,
  "metadata": {
    "colab": {
      "name": "Task_10.ipynb",
      "provenance": [],
      "authorship_tag": "ABX9TyPsgRmeeZz8SG4LAH35/cgK",
      "include_colab_link": true
    },
    "kernelspec": {
      "name": "python3",
      "display_name": "Python 3"
    }
  },
  "cells": [
    {
      "cell_type": "markdown",
      "metadata": {
        "id": "view-in-github",
        "colab_type": "text"
      },
      "source": [
        "<a href=\"https://colab.research.google.com/github/bhaveshdsharma/dataanalyticswithpython/blob/main/Task_10.ipynb\" target=\"_parent\"><img src=\"https://colab.research.google.com/assets/colab-badge.svg\" alt=\"Open In Colab\"/></a>"
      ]
    },
    {
      "cell_type": "code",
      "metadata": {
        "id": "CDFiEjw2qc1h"
      },
      "source": [
        ""
      ],
      "execution_count": null,
      "outputs": []
    },
    {
      "cell_type": "markdown",
      "metadata": {
        "id": "v0wxxC7hqmJx"
      },
      "source": [
        "# Task 10\r\n",
        "## 1. using while loop print numbers from 10 to 1"
      ]
    },
    {
      "cell_type": "code",
      "metadata": {
        "colab": {
          "base_uri": "https://localhost:8080/"
        },
        "id": "_adff5iv36LV",
        "outputId": "a63a37cc-c602-456b-b897-78ee51ef5249"
      },
      "source": [
        "count = 10\r\n",
        "while(count>0):\r\n",
        "    print(count)\r\n",
        "    count-=1"
      ],
      "execution_count": 7,
      "outputs": [
        {
          "output_type": "stream",
          "text": [
            "10\n",
            "9\n",
            "8\n",
            "7\n",
            "6\n",
            "5\n",
            "4\n",
            "3\n",
            "2\n",
            "1\n"
          ],
          "name": "stdout"
        }
      ]
    },
    {
      "cell_type": "code",
      "metadata": {
        "colab": {
          "base_uri": "https://localhost:8080/"
        },
        "id": "qcAdn_bN4i8l",
        "outputId": "d2ef4ca7-24c4-4ad7-d2b0-0e92194bffa2"
      },
      "source": [
        "count = 10\r\n",
        "while(count>0):\r\n",
        "    print(count)\r\n",
        "    count-=1\r\n",
        "\r\n",
        "else:\r\n",
        "   print(\"end of while loop\")"
      ],
      "execution_count": 10,
      "outputs": [
        {
          "output_type": "stream",
          "text": [
            "10\n",
            "9\n",
            "8\n",
            "7\n",
            "6\n",
            "5\n",
            "4\n",
            "3\n",
            "2\n",
            "1\n",
            "end of while loop\n"
          ],
          "name": "stdout"
        }
      ]
    },
    {
      "cell_type": "code",
      "metadata": {
        "id": "e8-YhJ-m4ypS"
      },
      "source": [
        "  "
      ],
      "execution_count": null,
      "outputs": []
    }
  ]
}