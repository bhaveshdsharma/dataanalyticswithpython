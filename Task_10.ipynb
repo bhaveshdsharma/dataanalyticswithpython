{
  "nbformat": 4,
  "nbformat_minor": 0,
  "metadata": {
    "colab": {
      "name": "Task_10.ipynb",
      "provenance": [],
      "collapsed_sections": [],
      "authorship_tag": "ABX9TyO7p6LM1vQAyJGgumMfJ1de",
      "include_colab_link": true
    },
    "kernelspec": {
      "name": "python3",
      "display_name": "Python 3"
    }
  },
  "cells": [
    {
      "cell_type": "markdown",
      "metadata": {
        "id": "view-in-github",
        "colab_type": "text"
      },
      "source": [
        "<a href=\"https://colab.research.google.com/github/bhaveshdsharma/dataanalyticswithpython/blob/main/Task_10.ipynb\" target=\"_parent\"><img src=\"https://colab.research.google.com/assets/colab-badge.svg\" alt=\"Open In Colab\"/></a>"
      ]
    },
    {
      "cell_type": "code",
      "metadata": {
        "id": "CDFiEjw2qc1h"
      },
      "source": [
        ""
      ],
      "execution_count": null,
      "outputs": []
    },
    {
      "cell_type": "markdown",
      "metadata": {
        "id": "v0wxxC7hqmJx"
      },
      "source": [
        "# Task 10\r\n",
        "## 1. using **while** loop print numbers from 10 to 1"
      ]
    },
    {
      "cell_type": "code",
      "metadata": {
        "colab": {
          "base_uri": "https://localhost:8080/"
        },
        "id": "_adff5iv36LV",
        "outputId": "a63a37cc-c602-456b-b897-78ee51ef5249"
      },
      "source": [
        "count = 10\r\n",
        "while(count>0):\r\n",
        "    print(count)\r\n",
        "    count-=1"
      ],
      "execution_count": null,
      "outputs": [
        {
          "output_type": "stream",
          "text": [
            "10\n",
            "9\n",
            "8\n",
            "7\n",
            "6\n",
            "5\n",
            "4\n",
            "3\n",
            "2\n",
            "1\n"
          ],
          "name": "stdout"
        }
      ]
    },
    {
      "cell_type": "code",
      "metadata": {
        "colab": {
          "base_uri": "https://localhost:8080/"
        },
        "id": "qcAdn_bN4i8l",
        "outputId": "d2ef4ca7-24c4-4ad7-d2b0-0e92194bffa2"
      },
      "source": [
        "count = 10\r\n",
        "while(count>0):\r\n",
        "    print(count)\r\n",
        "    count-=1\r\n",
        "\r\n",
        "else:\r\n",
        "   print(\"end of while loop\")"
      ],
      "execution_count": null,
      "outputs": [
        {
          "output_type": "stream",
          "text": [
            "10\n",
            "9\n",
            "8\n",
            "7\n",
            "6\n",
            "5\n",
            "4\n",
            "3\n",
            "2\n",
            "1\n",
            "end of while loop\n"
          ],
          "name": "stdout"
        }
      ]
    },
    {
      "cell_type": "code",
      "metadata": {
        "id": "e8-YhJ-m4ypS",
        "colab": {
          "base_uri": "https://localhost:8080/",
          "height": 132
        },
        "outputId": "5af7a7f4-ac96-46bc-859d-47951222e53d"
      },
      "source": [
        "  count = 10\r\n",
        "while(count>0):\r\n",
        "  if (count==4):\r\n",
        "    continue\r\n",
        "  else:\r\n",
        "    print(count)\r\n",
        "    count-=1\r\n",
        "\r\n",
        "else:\r\n",
        "   print(\"end of while loop\")"
      ],
      "execution_count": 29,
      "outputs": [
        {
          "output_type": "error",
          "ename": "IndentationError",
          "evalue": "ignored",
          "traceback": [
            "\u001b[0;36m  File \u001b[0;32m\"<ipython-input-29-73a1e1d60711>\"\u001b[0;36m, line \u001b[0;32m3\u001b[0m\n\u001b[0;31m    if (count==4):\u001b[0m\n\u001b[0m     ^\u001b[0m\n\u001b[0;31mIndentationError\u001b[0m\u001b[0;31m:\u001b[0m expected an indented block\n"
          ]
        }
      ]
    },
    {
      "cell_type": "markdown",
      "metadata": {
        "id": "Kl9XQA2MLfgY"
      },
      "source": [
        "### 2. use of **For** loop for different data type"
      ]
    },
    {
      "cell_type": "code",
      "metadata": {
        "colab": {
          "base_uri": "https://localhost:8080/"
        },
        "id": "Khyh9W64Lk8F",
        "outputId": "4f149679-bdcd-48cf-edcb-e0e9d6607344"
      },
      "source": [
        "list1 = [1,2,3,4,5]\r\n",
        "\r\n",
        "for item in list1:\r\n",
        "    print(item)"
      ],
      "execution_count": 1,
      "outputs": [
        {
          "output_type": "stream",
          "text": [
            "1\n",
            "2\n",
            "3\n",
            "4\n",
            "5\n"
          ],
          "name": "stdout"
        }
      ]
    },
    {
      "cell_type": "code",
      "metadata": {
        "colab": {
          "base_uri": "https://localhost:8080/"
        },
        "id": "H3u3SRWsLr2S",
        "outputId": "ccbe8e99-485f-49b5-cc1d-14011c973e93"
      },
      "source": [
        "# for loop for tuple\r\n",
        "tup1 = (1,2,3,4,5)\r\n",
        "\r\n",
        "for item in tup1:\r\n",
        "    print(item)"
      ],
      "execution_count": 2,
      "outputs": [
        {
          "output_type": "stream",
          "text": [
            "1\n",
            "2\n",
            "3\n",
            "4\n",
            "5\n"
          ],
          "name": "stdout"
        }
      ]
    },
    {
      "cell_type": "code",
      "metadata": {
        "colab": {
          "base_uri": "https://localhost:8080/"
        },
        "id": "1vL2ZkcbMA4G",
        "outputId": "40455166-f780-4962-9661-26ee3c1ee1bb"
      },
      "source": [
        "type(tup1)"
      ],
      "execution_count": 4,
      "outputs": [
        {
          "output_type": "execute_result",
          "data": {
            "text/plain": [
              "tuple"
            ]
          },
          "metadata": {
            "tags": []
          },
          "execution_count": 4
        }
      ]
    },
    {
      "cell_type": "code",
      "metadata": {
        "colab": {
          "base_uri": "https://localhost:8080/"
        },
        "id": "dGTgk3ZAMEVE",
        "outputId": "2d670f60-c331-48d7-d4b3-b25fdb6a06e0"
      },
      "source": [
        "tup1 = ((1,2),(3,4),(5,6))\r\n",
        "\r\n",
        "for item in tup1:\r\n",
        "    print(item)"
      ],
      "execution_count": 5,
      "outputs": [
        {
          "output_type": "stream",
          "text": [
            "(1, 2)\n",
            "(3, 4)\n",
            "(5, 6)\n"
          ],
          "name": "stdout"
        }
      ]
    },
    {
      "cell_type": "code",
      "metadata": {
        "colab": {
          "base_uri": "https://localhost:8080/"
        },
        "id": "pl64oP9dMXyY",
        "outputId": "b21321ca-797e-4105-aaa0-84407a72dccd"
      },
      "source": [
        "#tuple unpacking\r\n",
        "\r\n",
        "tup1 = ((1,2),(3,4),(5,6))\r\n",
        "\r\n",
        "for (a,b) in tup1:\r\n",
        "    print(b)"
      ],
      "execution_count": 6,
      "outputs": [
        {
          "output_type": "stream",
          "text": [
            "2\n",
            "4\n",
            "6\n"
          ],
          "name": "stdout"
        }
      ]
    },
    {
      "cell_type": "code",
      "metadata": {
        "colab": {
          "base_uri": "https://localhost:8080/"
        },
        "id": "ZX06XluKMojm",
        "outputId": "a09846eb-fa5c-4f44-ae3b-c0660626ea16"
      },
      "source": [
        "tup1 = ((1,2),(3,4),(5,6))\r\n",
        "\r\n",
        "for (a,b) in tup1:\r\n",
        "    print(a)"
      ],
      "execution_count": 7,
      "outputs": [
        {
          "output_type": "stream",
          "text": [
            "1\n",
            "3\n",
            "5\n"
          ],
          "name": "stdout"
        }
      ]
    },
    {
      "cell_type": "code",
      "metadata": {
        "colab": {
          "base_uri": "https://localhost:8080/"
        },
        "id": "wWbzagY7MtED",
        "outputId": "61755802-291a-4352-adcc-a227bc3eb4be"
      },
      "source": [
        "x= list(tup1)\r\n",
        "x[2]=(7,8)\r\n",
        "print(x)\r\n",
        "x.append((7,8))\r\n",
        "print(x)\r\n",
        "x.insert(2,(5,6))\r\n",
        "x.pop()\r\n",
        "tup1\r\n",
        "print(x)\r\n",
        "tup1=tuple(x)\r\n",
        "print(tup1)"
      ],
      "execution_count": 18,
      "outputs": [
        {
          "output_type": "stream",
          "text": [
            "[(1, 2), (3, 4), (7, 8), (7, 8)]\n",
            "[(1, 2), (3, 4), (7, 8), (7, 8), (7, 8)]\n",
            "[(1, 2), (3, 4), (5, 6), (7, 8), (7, 8)]\n",
            "((1, 2), (3, 4), (5, 6), (7, 8), (7, 8))\n"
          ],
          "name": "stdout"
        }
      ]
    },
    {
      "cell_type": "code",
      "metadata": {
        "colab": {
          "base_uri": "https://localhost:8080/"
        },
        "id": "ONbmRtacMycN",
        "outputId": "cc8c7d7c-6a6f-49fc-b31e-c2023d1225f4"
      },
      "source": [
        "# for loop for set ( output are un ordered)\r\n",
        "set1= {\"saffron\",\"white\",\"green\"}\r\n",
        "\r\n",
        "for colour in set1:\r\n",
        "  print(colour)\r\n"
      ],
      "execution_count": 20,
      "outputs": [
        {
          "output_type": "stream",
          "text": [
            "white\n",
            "saffron\n",
            "green\n"
          ],
          "name": "stdout"
        }
      ]
    },
    {
      "cell_type": "code",
      "metadata": {
        "colab": {
          "base_uri": "https://localhost:8080/"
        },
        "id": "i34EnVNsPv5V",
        "outputId": "90e8e886-c320-4c4f-fc01-9cb13b810466"
      },
      "source": [
        "set1= {\"saffron\",\"white\",\"green\"}\r\n",
        "\r\n",
        "for colour in set1:\r\n",
        "  print(colour)"
      ],
      "execution_count": 24,
      "outputs": [
        {
          "output_type": "stream",
          "text": [
            "white\n",
            "saffron\n",
            "green\n"
          ],
          "name": "stdout"
        }
      ]
    },
    {
      "cell_type": "code",
      "metadata": {
        "colab": {
          "base_uri": "https://localhost:8080/"
        },
        "id": "-1_mz6OyUVNj",
        "outputId": "518e0e80-01d0-4fd8-c916-ca0ddbf9083f"
      },
      "source": [
        "\r\n",
        "count = 10\r\n",
        "\r\n",
        "while(count>0):\r\n",
        "  count-=1\r\n",
        "  if count == 4:\r\n",
        "    continue  \r\n",
        "    \r\n",
        "  else:\r\n",
        "    print(count)\r\n",
        "    "
      ],
      "execution_count": 5,
      "outputs": [
        {
          "output_type": "stream",
          "text": [
            "9\n",
            "8\n",
            "7\n",
            "6\n",
            "5\n",
            "3\n",
            "2\n",
            "1\n",
            "0\n"
          ],
          "name": "stdout"
        }
      ]
    },
    {
      "cell_type": "markdown",
      "metadata": {
        "id": "aL4QTb1qXmGq"
      },
      "source": [
        "# Task 10.1 Use of **continue** with an example"
      ]
    },
    {
      "cell_type": "code",
      "metadata": {
        "colab": {
          "base_uri": "https://localhost:8080/"
        },
        "id": "iG-i9E5OVwFU",
        "outputId": "9712e1b3-c0da-4439-e20e-f0dfedf4ec3a"
      },
      "source": [
        "#The continue statement  moves the control back to the top of the loop, it can be used for **while** and **for** loop both.\r\n",
        "count = 11\r\n",
        "while(count>0):\r\n",
        "  count-=1\r\n",
        "  if count == 6:\r\n",
        "    continue\r\n",
        "  print(count)\r\n",
        "print(\"note: 6 is not printed\")"
      ],
      "execution_count": 13,
      "outputs": [
        {
          "output_type": "stream",
          "text": [
            "10\n",
            "9\n",
            "8\n",
            "7\n",
            "5\n",
            "4\n",
            "3\n",
            "2\n",
            "1\n",
            "0\n",
            "note: 6 is not printed\n"
          ],
          "name": "stdout"
        }
      ]
    },
    {
      "cell_type": "code",
      "metadata": {
        "colab": {
          "base_uri": "https://localhost:8080/"
        },
        "id": "GD8AtKOJWIPz",
        "outputId": "3c96502d-d15a-4e7e-e7a5-6f15a4ae9854"
      },
      "source": [
        "mystring = \"bhavesh\"\r\n",
        "l1= list(mystring)\r\n",
        "print(l1)\r\n",
        "for x in l1:\r\n",
        "  if x == \"h\":\r\n",
        "    continue\r\n",
        "  print(x)\r\n",
        "print(\"h is not printed because we used continue\") "
      ],
      "execution_count": 17,
      "outputs": [
        {
          "output_type": "stream",
          "text": [
            "['b', 'h', 'a', 'v', 'e', 's', 'h']\n",
            "b\n",
            "a\n",
            "v\n",
            "e\n",
            "s\n",
            "h is not printed because we used continue\n"
          ],
          "name": "stdout"
        }
      ]
    },
    {
      "cell_type": "code",
      "metadata": {
        "colab": {
          "base_uri": "https://localhost:8080/"
        },
        "id": "zLwsfnC5Yni2",
        "outputId": "12ea22b7-3687-42e8-ab80-6ca6a3a00121"
      },
      "source": [
        "tup1= ((1,2),(3,4),(5,6))\r\n",
        "for a,b in tup1:\r\n",
        "  if a == 1 or a == 3:\r\n",
        "    continue\r\n",
        "  print(tup1)\r\n",
        "print(\"the loop has ended\") "
      ],
      "execution_count": 29,
      "outputs": [
        {
          "output_type": "stream",
          "text": [
            "((1, 2), (3, 4), (5, 6))\n",
            "the loop has ended\n"
          ],
          "name": "stdout"
        }
      ]
    },
    {
      "cell_type": "code",
      "metadata": {
        "id": "FYvwEDW6bovi"
      },
      "source": [
        ""
      ],
      "execution_count": null,
      "outputs": []
    },
    {
      "cell_type": "markdown",
      "metadata": {
        "id": "7SiSz8WbdIRa"
      },
      "source": [
        "# Task 10.2 use of pass in loops "
      ]
    },
    {
      "cell_type": "code",
      "metadata": {
        "id": "ASSV6F3NdPRt"
      },
      "source": [
        "# The pass statement is used as a placeholder. When the pass statement is executed,you avoid getting an error when empty code is not allowed."
      ],
      "execution_count": 30,
      "outputs": []
    },
    {
      "cell_type": "code",
      "metadata": {
        "colab": {
          "base_uri": "https://localhost:8080/",
          "height": 132
        },
        "id": "T3muAzHyd-mm",
        "outputId": "b99b4526-75a2-4cd1-d781-2023f916476b"
      },
      "source": [
        "tup2=(\"tiger\",\"lion\",\"cheetha\")\r\n",
        "for x in tup2:\r\n",
        "  "
      ],
      "execution_count": 38,
      "outputs": [
        {
          "output_type": "error",
          "ename": "SyntaxError",
          "evalue": "ignored",
          "traceback": [
            "\u001b[0;36m  File \u001b[0;32m\"<ipython-input-38-9c70591ab422>\"\u001b[0;36m, line \u001b[0;32m4\u001b[0m\n\u001b[0;31m    \u001b[0m\n\u001b[0m    ^\u001b[0m\n\u001b[0;31mSyntaxError\u001b[0m\u001b[0;31m:\u001b[0m unexpected EOF while parsing\n"
          ]
        }
      ]
    },
    {
      "cell_type": "code",
      "metadata": {
        "id": "kmwcB9ukegiV"
      },
      "source": [
        "tup2=(\"tiger\",\"lion\",\"cheetha\")\r\n",
        "for x in tup2:\r\n",
        "  pass\r\n",
        "# didnt get error because used pass "
      ],
      "execution_count": 40,
      "outputs": []
    },
    {
      "cell_type": "code",
      "metadata": {
        "colab": {
          "base_uri": "https://localhost:8080/"
        },
        "id": "HWI65rPFe2MD",
        "outputId": "566baa08-a5f3-4d09-8cf1-bc21d234f56d"
      },
      "source": [
        "a=5\r\n",
        "b=7\r\n",
        "\r\n",
        "if a*b == 35:\r\n",
        "  print(\"correct\")\r\n",
        "else:\r\n",
        "  pass"
      ],
      "execution_count": 42,
      "outputs": [
        {
          "output_type": "stream",
          "text": [
            "correct\n"
          ],
          "name": "stdout"
        }
      ]
    },
    {
      "cell_type": "code",
      "metadata": {
        "id": "JPhjWj4MgTiF"
      },
      "source": [
        "a=8\r\n",
        "b=7\r\n",
        "\r\n",
        "if a*b == 35:\r\n",
        "  print(\"correct\")\r\n",
        "else:\r\n",
        "  pass"
      ],
      "execution_count": 43,
      "outputs": []
    },
    {
      "cell_type": "code",
      "metadata": {
        "id": "SeObjnUBgiRl"
      },
      "source": [
        ""
      ],
      "execution_count": null,
      "outputs": []
    }
  ]
}