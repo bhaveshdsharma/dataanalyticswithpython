{
 "cells": [
  {
   "cell_type": "markdown",
   "metadata": {},
   "source": [
    "# Task-6 Add and remove item from tuple"
   ]
  },
  {
   "cell_type": "markdown",
   "metadata": {},
   "source": [
    "### 1. Add item to tuple"
   ]
  },
  {
   "cell_type": "code",
   "execution_count": 16,
   "metadata": {},
   "outputs": [
    {
     "name": "stdout",
     "output_type": "stream",
     "text": [
      "(9, 8, 7, 'six', 'five', 'four', 1.1, 1.2, 1.3)\n"
     ]
    }
   ],
   "source": [
    "t1=(9,8,7,\"six\",\"five\",\"four\",1.1,1.2,1.3)\n",
    "len(t1)\n",
    "type(t1)\n",
    "print(t1)"
   ]
  },
  {
   "cell_type": "code",
   "execution_count": 17,
   "metadata": {},
   "outputs": [
    {
     "name": "stdout",
     "output_type": "stream",
     "text": [
      "(9, 8, 7, 'six', 'five', 'three', 1.1, 1.2, 1.3)\n"
     ]
    }
   ],
   "source": [
    "l1=list(t1)\n",
    "l1[5]=\"three\"\n",
    "t1= tuple(l1)\n",
    "print(t1)"
   ]
  },
  {
   "cell_type": "code",
   "execution_count": 18,
   "metadata": {},
   "outputs": [
    {
     "name": "stdout",
     "output_type": "stream",
     "text": [
      "(9, 8, 7, 'six', 'five', 'three', 1.1, 1.2, 1.3)\n"
     ]
    }
   ],
   "source": [
    "print(t1)"
   ]
  },
  {
   "cell_type": "code",
   "execution_count": 19,
   "metadata": {},
   "outputs": [
    {
     "name": "stdout",
     "output_type": "stream",
     "text": [
      "[9, 8, 7, 'six', 'five', ['four', 'three', 'two'], 'three', 1.1, 1.2, 1.3]\n",
      "(9, 8, 7, 'six', 'five', ['four', 'three', 'two'], 'three', 1.1, 1.2, 1.3)\n"
     ]
    }
   ],
   "source": [
    "l1=list(t1)\n",
    "x=[\"four\",\"three\",\"two\"]\n",
    "l1.insert(5,x)\n",
    "print(l1)\n",
    "t1= tuple(l1)\n",
    "print(t1)"
   ]
  },
  {
   "cell_type": "code",
   "execution_count": 26,
   "metadata": {},
   "outputs": [
    {
     "name": "stdout",
     "output_type": "stream",
     "text": [
      "updatedlis2: ['one', 'two', 'three', 'four', 'six']\n"
     ]
    }
   ],
   "source": [
    "tup2=(\"one\",\"two\",\"three\",\"four\")\n",
    "lis2=list(tup2)\n",
    "lis2.append(\"six\")\n",
    "print(\"updatedlis2:\",lis2)"
   ]
  },
  {
   "cell_type": "code",
   "execution_count": 27,
   "metadata": {},
   "outputs": [
    {
     "name": "stdout",
     "output_type": "stream",
     "text": [
      "['one', 'two', 'three', 'four', 'five', 'six']\n"
     ]
    }
   ],
   "source": [
    "lis2.insert(4,\"five\")\n",
    "print(lis2)"
   ]
  },
  {
   "cell_type": "code",
   "execution_count": null,
   "metadata": {},
   "outputs": [],
   "source": []
  },
  {
   "cell_type": "markdown",
   "metadata": {},
   "source": [
    "### 2. Remove item from tuple"
   ]
  },
  {
   "cell_type": "code",
   "execution_count": 20,
   "metadata": {},
   "outputs": [
    {
     "name": "stdout",
     "output_type": "stream",
     "text": [
      "[9, 8, 7, 'six', 'five', ['four', 'three', 'two'], 1.1, 1.2, 1.3]\n",
      "(9, 8, 7, 'six', 'five', ['four', 'three', 'two'], 1.1, 1.2, 1.3)\n"
     ]
    }
   ],
   "source": [
    "l1=list(t1)\n",
    "l1.remove('three')\n",
    "print(l1)\n",
    "t1= tuple(l1)\n",
    "print(t1) \n"
   ]
  },
  {
   "cell_type": "code",
   "execution_count": 21,
   "metadata": {},
   "outputs": [
    {
     "name": "stdout",
     "output_type": "stream",
     "text": [
      "[9, 8, 7, 'six', 'five', ['four', 'three', 'two'], 1.2, 1.3]\n",
      "(9, 8, 7, 'six', 'five', ['four', 'three', 'two'], 1.2, 1.3)\n"
     ]
    }
   ],
   "source": [
    "l1=list(t1)\n",
    "l1.pop(-3)\n",
    "print(l1)\n",
    "t1= tuple(l1)\n",
    "print(t1) \n"
   ]
  },
  {
   "cell_type": "code",
   "execution_count": 22,
   "metadata": {},
   "outputs": [
    {
     "name": "stdout",
     "output_type": "stream",
     "text": [
      "updatedlist: [9, 8, 7, 'six', 'five', 1.2, 1.3]\n",
      "(9, 8, 7, 'six', 'five', 1.2, 1.3)\n"
     ]
    }
   ],
   "source": [
    "l1=list(t1)\n",
    "del l1[5]\n",
    "print(\"updatedlist:\",l1)\n",
    "t1=tuple(l1)\n",
    "print(t1)"
   ]
  },
  {
   "cell_type": "code",
   "execution_count": null,
   "metadata": {},
   "outputs": [],
   "source": []
  }
 ],
 "metadata": {
  "kernelspec": {
   "display_name": "Python 3",
   "language": "python",
   "name": "python3"
  },
  "language_info": {
   "codemirror_mode": {
    "name": "ipython",
    "version": 3
   },
   "file_extension": ".py",
   "mimetype": "text/x-python",
   "name": "python",
   "nbconvert_exporter": "python",
   "pygments_lexer": "ipython3",
   "version": "3.7.6"
  }
 },
 "nbformat": 4,
 "nbformat_minor": 4
}
