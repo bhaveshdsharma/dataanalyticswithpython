{
  "nbformat": 4,
  "nbformat_minor": 0,
  "metadata": {
    "colab": {
      "name": "Untitled0.ipynb",
      "provenance": [],
      "authorship_tag": "ABX9TyMR3ZIqbG5ZSdK9yiNvqMTz",
      "include_colab_link": true
    },
    "kernelspec": {
      "name": "python3",
      "display_name": "Python 3"
    }
  },
  "cells": [
    {
      "cell_type": "markdown",
      "metadata": {
        "id": "view-in-github",
        "colab_type": "text"
      },
      "source": [
        "<a href=\"https://colab.research.google.com/github/bhaveshdsharma/dataanalyticswithpython/blob/main/Task_11.ipynb\" target=\"_parent\"><img src=\"https://colab.research.google.com/assets/colab-badge.svg\" alt=\"Open In Colab\"/></a>"
      ]
    },
    {
      "cell_type": "code",
      "metadata": {
        "id": "pX4oDvEXudz1"
      },
      "source": [
        "def sum (num1,num2):\r\n",
        "  return(num1+num2)"
      ],
      "execution_count": 16,
      "outputs": []
    },
    {
      "cell_type": "code",
      "metadata": {
        "id": "unUJkf3o0vc3"
      },
      "source": [
        "def diff (num1,num2):\r\n",
        "  return(num1-num2)"
      ],
      "execution_count": 17,
      "outputs": []
    },
    {
      "cell_type": "code",
      "metadata": {
        "id": "Wgciev3d00t_"
      },
      "source": [
        "def multiply (num1,num2):\r\n",
        "  return(num1*num2)"
      ],
      "execution_count": 18,
      "outputs": []
    },
    {
      "cell_type": "code",
      "metadata": {
        "id": "444LG6-x04st"
      },
      "source": [
        "def divide(num1,num2):\r\n",
        "  return(num1/num2)"
      ],
      "execution_count": 29,
      "outputs": []
    },
    {
      "cell_type": "code",
      "metadata": {
        "colab": {
          "base_uri": "https://localhost:8080/"
        },
        "id": "Tkl24gnb1OBw",
        "outputId": "0d15a0f1-09d0-4203-938e-eb28cf3bf4ba"
      },
      "source": [
        "\r\n",
        "print( \"1. sum\\n\" \"2. diff\\n\" \"3. multiply\\n\" \"4. divide\\n\")\r\n",
        "select = int(input(\"select operation no you need to perform:\"))\r\n",
        "\r\n",
        "\r\n"
      ],
      "execution_count": 59,
      "outputs": [
        {
          "output_type": "stream",
          "text": [
            "1. sum\n",
            "2. diff\n",
            "3. multiply\n",
            "4. divide\n",
            "\n",
            "select operation no you need to perform:2\n"
          ],
          "name": "stdout"
        }
      ]
    },
    {
      "cell_type": "code",
      "metadata": {
        "colab": {
          "base_uri": "https://localhost:8080/"
        },
        "id": "OPjYs_Xy-Z9Z",
        "outputId": "2fbbeb25-28cd-4f56-b3ea-3e20e821b37c"
      },
      "source": [
        ""
      ],
      "execution_count": 60,
      "outputs": [
        {
          "output_type": "stream",
          "text": [
            "num16\n",
            "num22\n"
          ],
          "name": "stdout"
        }
      ]
    },
    {
      "cell_type": "code",
      "metadata": {
        "colab": {
          "base_uri": "https://localhost:8080/"
        },
        "id": "kQtr4tK42ARm",
        "outputId": "b0f6b976-cc38-4e15-e090-7ad067a8cd00"
      },
      "source": [
        "  \r\n",
        "if select == 1: \r\n",
        "    print(num1, \"+\", num2, \"=\", \r\n",
        "                    add(num1, num2)) \r\n",
        "  \r\n",
        "elif select == 2: \r\n",
        "    print(num1, \"-\", num2, \"=\", \r\n",
        "                    diff(num1, num2)) \r\n",
        "  \r\n",
        "elif select == 3: \r\n",
        "    print(num1, \"*\", num2, \"=\", \r\n",
        "                    multiply(num1, num2)) \r\n",
        "  \r\n",
        "elif select == 4: \r\n",
        "    print(num1, \"/\", num2, \"=\", \r\n",
        "                    divide(num1, num2)) \r\n",
        "else: \r\n",
        "    print(\"Invalid input\") "
      ],
      "execution_count": 62,
      "outputs": [
        {
          "output_type": "stream",
          "text": [
            "6 - 2 = 4\n"
          ],
          "name": "stdout"
        }
      ]
    },
    {
      "cell_type": "code",
      "metadata": {
        "id": "dGqZpWSv3Lzc"
      },
      "source": [
        ""
      ],
      "execution_count": 61,
      "outputs": []
    }
  ]
}